{
    "cells": [
        {
            "cell_type": "markdown",
            "metadata": {},
            "source": [
                "# Explore here"
            ]
        },
        {
            "cell_type": "code",
            "execution_count": 9,
            "metadata": {},
            "outputs": [],
            "source": [
                "import os\n",
                "import pandas as pd\n",
                "from dotenv import load_dotenv\n",
                "\n",
                "# load the .env file variables\n",
                "load_dotenv()\n",
                "\n",
                "client_id= os.getenv('client_id')\n",
                "client_secret= os.getenv('client_secret')\n"
            ]
        },
        {
            "cell_type": "code",
            "execution_count": 10,
            "metadata": {},
            "outputs": [],
            "source": [
                "import spotipy\n",
                "from spotipy.oauth2 import SpotifyClientCredentials\n",
                "\n",
                "con = spotipy.Spotify(auth_manager=SpotifyClientCredentials(client_id=client_id, client_secret=client_secret))"
            ]
        },
        {
            "cell_type": "code",
            "execution_count": 11,
            "metadata": {},
            "outputs": [
                {
                    "name": "stdout",
                    "output_type": "stream",
                    "text": [
                        "{'tracks': [{'album': {'album_type': 'album', 'artists': [{'external_urls': {'spotify': 'https://open.spotify.com/artist/09xj0S68Y1OU1vHMCZAIvz'}, 'href': 'https://api.spotify.com/v1/artists/09xj0S68Y1OU1vHMCZAIvz', 'id': '09xj0S68Y1OU1vHMCZAIvz', 'name': 'Café Tacvba', 'type': 'artist', 'uri': 'spotify:artist:09xj0S68Y1OU1vHMCZAIvz'}], 'available_markets': ['AR', 'AU', 'AT', 'BE', 'BO', 'BR', 'BG', 'CA', 'CL', 'CO', 'CR', 'CY', 'CZ', 'DK', 'DO', 'DE', 'EC', 'EE', 'SV', 'FI', 'FR', 'GR', 'GT', 'HN', 'HK', 'HU', 'IS', 'IE', 'IT', 'LV', 'LT', 'LU', 'MY', 'MT', 'MX', 'NL', 'NZ', 'NI', 'NO', 'PA', 'PY', 'PE', 'PH', 'PL', 'PT', 'SG', 'SK', 'ES', 'SE', 'CH', 'TW', 'TR', 'UY', 'US', 'GB', 'AD', 'LI', 'MC', 'ID', 'JP', 'TH', 'VN', 'RO', 'IL', 'ZA', 'SA', 'AE', 'BH', 'QA', 'OM', 'KW', 'EG', 'MA', 'DZ', 'TN', 'LB', 'JO', 'PS', 'IN', 'BY', 'KZ', 'MD', 'UA', 'AL', 'BA', 'HR', 'ME', 'MK', 'RS', 'SI', 'KR', 'BD', 'PK', 'LK', 'GH', 'KE', 'NG', 'TZ', 'UG', 'AG', 'AM', 'BS', 'BB', 'BZ', 'BT', 'BW', 'BF', 'CV', 'CW', 'DM', 'FJ', 'GM', 'GE', 'GD', 'GW', 'GY', 'HT', 'JM', 'KI', 'LS', 'LR', 'MW', 'MV', 'ML', 'MH', 'FM', 'NA', 'NR', 'NE', 'PW', 'PG', 'WS', 'SM', 'ST', 'SN', 'SC', 'SL', 'SB', 'KN', 'LC', 'VC', 'SR', 'TL', 'TO', 'TT', 'TV', 'VU', 'AZ', 'BN', 'BI', 'KH', 'CM', 'TD', 'KM', 'GQ', 'SZ', 'GA', 'GN', 'KG', 'LA', 'MO', 'MR', 'MN', 'NP', 'RW', 'TG', 'UZ', 'ZW', 'BJ', 'MG', 'MU', 'MZ', 'AO', 'CI', 'DJ', 'ZM', 'CD', 'CG', 'IQ', 'LY', 'TJ', 'VE', 'ET', 'XK'], 'external_urls': {'spotify': 'https://open.spotify.com/album/3ifA4OUPiT92YB4vYtAdVh'}, 'href': 'https://api.spotify.com/v1/albums/3ifA4OUPiT92YB4vYtAdVh', 'id': '3ifA4OUPiT92YB4vYtAdVh', 'images': [{'url': 'https://i.scdn.co/image/ab67616d0000b273624927252564ef4625307897', 'height': 640, 'width': 640}, {'url': 'https://i.scdn.co/image/ab67616d00001e02624927252564ef4625307897', 'height': 300, 'width': 300}, {'url': 'https://i.scdn.co/image/ab67616d00004851624927252564ef4625307897', 'height': 64, 'width': 64}], 'is_playable': True, 'name': 'Cuatro Caminos', 'release_date': '2003-07-01', 'release_date_precision': 'day', 'total_tracks': 14, 'type': 'album', 'uri': 'spotify:album:3ifA4OUPiT92YB4vYtAdVh'}, 'artists': [{'external_urls': {'spotify': 'https://open.spotify.com/artist/09xj0S68Y1OU1vHMCZAIvz'}, 'href': 'https://api.spotify.com/v1/artists/09xj0S68Y1OU1vHMCZAIvz', 'id': '09xj0S68Y1OU1vHMCZAIvz', 'name': 'Café Tacvba', 'type': 'artist', 'uri': 'spotify:artist:09xj0S68Y1OU1vHMCZAIvz'}], 'available_markets': ['AR', 'AU', 'AT', 'BE', 'BO', 'BR', 'BG', 'CA', 'CL', 'CO', 'CR', 'CY', 'CZ', 'DK', 'DO', 'DE', 'EC', 'EE', 'SV', 'FI', 'FR', 'GR', 'GT', 'HN', 'HK', 'HU', 'IS', 'IE', 'IT', 'LV', 'LT', 'LU', 'MY', 'MT', 'MX', 'NL', 'NZ', 'NI', 'NO', 'PA', 'PY', 'PE', 'PH', 'PL', 'PT', 'SG', 'SK', 'ES', 'SE', 'CH', 'TW', 'TR', 'UY', 'US', 'GB', 'AD', 'LI', 'MC', 'ID', 'JP', 'TH', 'VN', 'RO', 'IL', 'ZA', 'SA', 'AE', 'BH', 'QA', 'OM', 'KW', 'EG', 'MA', 'DZ', 'TN', 'LB', 'JO', 'PS', 'IN', 'BY', 'KZ', 'MD', 'UA', 'AL', 'BA', 'HR', 'ME', 'MK', 'RS', 'SI', 'KR', 'BD', 'PK', 'LK', 'GH', 'KE', 'NG', 'TZ', 'UG', 'AG', 'AM', 'BS', 'BB', 'BZ', 'BT', 'BW', 'BF', 'CV', 'CW', 'DM', 'FJ', 'GM', 'GE', 'GD', 'GW', 'GY', 'HT', 'JM', 'KI', 'LS', 'LR', 'MW', 'MV', 'ML', 'MH', 'FM', 'NA', 'NR', 'NE', 'PW', 'PG', 'WS', 'SM', 'ST', 'SN', 'SC', 'SL', 'SB', 'KN', 'LC', 'VC', 'SR', 'TL', 'TO', 'TT', 'TV', 'VU', 'AZ', 'BN', 'BI', 'KH', 'CM', 'TD', 'KM', 'GQ', 'SZ', 'GA', 'GN', 'KG', 'LA', 'MO', 'MR', 'MN', 'NP', 'RW', 'TG', 'UZ', 'ZW', 'BJ', 'MG', 'MU', 'MZ', 'AO', 'CI', 'DJ', 'ZM', 'CD', 'CG', 'IQ', 'LY', 'TJ', 'VE', 'ET', 'XK'], 'disc_number': 1, 'duration_ms': 267600, 'explicit': False, 'external_ids': {'isrc': 'USMC10300331'}, 'external_urls': {'spotify': 'https://open.spotify.com/track/6kdCN6gTWLcLxmLXoUcwuI'}, 'href': 'https://api.spotify.com/v1/tracks/6kdCN6gTWLcLxmLXoUcwuI', 'id': '6kdCN6gTWLcLxmLXoUcwuI', 'is_local': False, 'is_playable': True, 'name': 'Eres', 'popularity': 74, 'preview_url': None, 'track_number': 6, 'type': 'track', 'uri': 'spotify:track:6kdCN6gTWLcLxmLXoUcwuI'}, {'album': {'album_type': 'album', 'artists': [{'external_urls': {'spotify': 'https://open.spotify.com/artist/09xj0S68Y1OU1vHMCZAIvz'}, 'href': 'https://api.spotify.com/v1/artists/09xj0S68Y1OU1vHMCZAIvz', 'id': '09xj0S68Y1OU1vHMCZAIvz', 'name': 'Café Tacvba', 'type': 'artist', 'uri': 'spotify:artist:09xj0S68Y1OU1vHMCZAIvz'}], 'available_markets': ['AR', 'AU', 'AT', 'BE', 'BO', 'BR', 'BG', 'CA', 'CL', 'CO', 'CR', 'CY', 'CZ', 'DK', 'DO', 'DE', 'EC', 'EE', 'SV', 'FI', 'FR', 'GR', 'GT', 'HN', 'HK', 'HU', 'IS', 'IE', 'IT', 'LV', 'LT', 'LU', 'MY', 'MT', 'MX', 'NL', 'NZ', 'NI', 'NO', 'PA', 'PY', 'PE', 'PH', 'PL', 'PT', 'SG', 'SK', 'ES', 'SE', 'CH', 'TW', 'TR', 'UY', 'US', 'GB', 'AD', 'LI', 'MC', 'ID', 'JP', 'TH', 'VN', 'RO', 'IL', 'ZA', 'SA', 'AE', 'BH', 'QA', 'OM', 'KW', 'EG', 'MA', 'DZ', 'TN', 'LB', 'JO', 'PS', 'IN', 'BY', 'KZ', 'MD', 'UA', 'AL', 'BA', 'HR', 'ME', 'MK', 'RS', 'SI', 'KR', 'BD', 'PK', 'LK', 'GH', 'KE', 'NG', 'TZ', 'UG', 'AG', 'AM', 'BS', 'BB', 'BZ', 'BT', 'BW', 'BF', 'CV', 'CW', 'DM', 'FJ', 'GM', 'GE', 'GD', 'GW', 'GY', 'HT', 'JM', 'KI', 'LS', 'LR', 'MW', 'MV', 'ML', 'MH', 'FM', 'NA', 'NR', 'NE', 'PW', 'PG', 'WS', 'SM', 'ST', 'SN', 'SC', 'SL', 'SB', 'KN', 'LC', 'VC', 'SR', 'TL', 'TO', 'TT', 'TV', 'VU', 'AZ', 'BN', 'BI', 'KH', 'CM', 'TD', 'KM', 'GQ', 'SZ', 'GA', 'GN', 'KG', 'LA', 'MO', 'MR', 'MN', 'NP', 'RW', 'TG', 'UZ', 'ZW', 'BJ', 'MG', 'MU', 'MZ', 'AO', 'CI', 'DJ', 'ZM', 'CD', 'CG', 'IQ', 'LY', 'TJ', 'VE', 'ET', 'XK'], 'external_urls': {'spotify': 'https://open.spotify.com/album/33iiSdb0XhQI0dSstspDls'}, 'href': 'https://api.spotify.com/v1/albums/33iiSdb0XhQI0dSstspDls', 'id': '33iiSdb0XhQI0dSstspDls', 'images': [{'url': 'https://i.scdn.co/image/ab67616d0000b27344fc111787f221cf5629a2b9', 'height': 640, 'width': 640}, {'url': 'https://i.scdn.co/image/ab67616d00001e0244fc111787f221cf5629a2b9', 'height': 300, 'width': 300}, {'url': 'https://i.scdn.co/image/ab67616d0000485144fc111787f221cf5629a2b9', 'height': 64, 'width': 64}], 'is_playable': True, 'name': 'Avalancha de éxitos', 'release_date': '1996', 'release_date_precision': 'year', 'total_tracks': 8, 'type': 'album', 'uri': 'spotify:album:33iiSdb0XhQI0dSstspDls'}, 'artists': [{'external_urls': {'spotify': 'https://open.spotify.com/artist/09xj0S68Y1OU1vHMCZAIvz'}, 'href': 'https://api.spotify.com/v1/artists/09xj0S68Y1OU1vHMCZAIvz', 'id': '09xj0S68Y1OU1vHMCZAIvz', 'name': 'Café Tacvba', 'type': 'artist', 'uri': 'spotify:artist:09xj0S68Y1OU1vHMCZAIvz'}], 'available_markets': ['AR', 'AU', 'AT', 'BE', 'BO', 'BR', 'BG', 'CA', 'CL', 'CO', 'CR', 'CY', 'CZ', 'DK', 'DO', 'DE', 'EC', 'EE', 'SV', 'FI', 'FR', 'GR', 'GT', 'HN', 'HK', 'HU', 'IS', 'IE', 'IT', 'LV', 'LT', 'LU', 'MY', 'MT', 'MX', 'NL', 'NZ', 'NI', 'NO', 'PA', 'PY', 'PE', 'PH', 'PL', 'PT', 'SG', 'SK', 'ES', 'SE', 'CH', 'TW', 'TR', 'UY', 'US', 'GB', 'AD', 'LI', 'MC', 'ID', 'JP', 'TH', 'VN', 'RO', 'IL', 'ZA', 'SA', 'AE', 'BH', 'QA', 'OM', 'KW', 'EG', 'MA', 'DZ', 'TN', 'LB', 'JO', 'PS', 'IN', 'BY', 'KZ', 'MD', 'UA', 'AL', 'BA', 'HR', 'ME', 'MK', 'RS', 'SI', 'KR', 'BD', 'PK', 'LK', 'GH', 'KE', 'NG', 'TZ', 'UG', 'AG', 'AM', 'BS', 'BB', 'BZ', 'BT', 'BW', 'BF', 'CV', 'CW', 'DM', 'FJ', 'GM', 'GE', 'GD', 'GW', 'GY', 'HT', 'JM', 'KI', 'LS', 'LR', 'MW', 'MV', 'ML', 'MH', 'FM', 'NA', 'NR', 'NE', 'PW', 'PG', 'WS', 'SM', 'ST', 'SN', 'SC', 'SL', 'SB', 'KN', 'LC', 'VC', 'SR', 'TL', 'TO', 'TT', 'TV', 'VU', 'AZ', 'BN', 'BI', 'KH', 'CM', 'TD', 'KM', 'GQ', 'SZ', 'GA', 'GN', 'KG', 'LA', 'MO', 'MR', 'MN', 'NP', 'RW', 'TG', 'UZ', 'ZW', 'BJ', 'MG', 'MU', 'MZ', 'AO', 'CI', 'DJ', 'ZM', 'CD', 'CG', 'IQ', 'LY', 'TJ', 'VE', 'ET', 'XK'], 'disc_number': 1, 'duration_ms': 214880, 'explicit': False, 'external_ids': {'isrc': 'MXF159700008'}, 'external_urls': {'spotify': 'https://open.spotify.com/track/6hFHsQWB7HdVrSe7efRR82'}, 'href': 'https://api.spotify.com/v1/tracks/6hFHsQWB7HdVrSe7efRR82', 'id': '6hFHsQWB7HdVrSe7efRR82', 'is_local': False, 'is_playable': True, 'name': 'Como te extraño mi amor', 'popularity': 67, 'preview_url': None, 'track_number': 8, 'type': 'track', 'uri': 'spotify:track:6hFHsQWB7HdVrSe7efRR82'}, {'album': {'album_type': 'album', 'artists': [{'external_urls': {'spotify': 'https://open.spotify.com/artist/09xj0S68Y1OU1vHMCZAIvz'}, 'href': 'https://api.spotify.com/v1/artists/09xj0S68Y1OU1vHMCZAIvz', 'id': '09xj0S68Y1OU1vHMCZAIvz', 'name': 'Café Tacvba', 'type': 'artist', 'uri': 'spotify:artist:09xj0S68Y1OU1vHMCZAIvz'}], 'available_markets': ['AR', 'AU', 'AT', 'BE', 'BO', 'BR', 'BG', 'CA', 'CL', 'CO', 'CR', 'CY', 'CZ', 'DK', 'DO', 'DE', 'EC', 'EE', 'SV', 'FI', 'FR', 'GR', 'GT', 'HN', 'HK', 'HU', 'IS', 'IE', 'IT', 'LV', 'LT', 'LU', 'MY', 'MT', 'MX', 'NL', 'NZ', 'NI', 'NO', 'PA', 'PY', 'PE', 'PH', 'PL', 'PT', 'SG', 'SK', 'ES', 'SE', 'CH', 'TW', 'TR', 'UY', 'US', 'GB', 'AD', 'LI', 'MC', 'ID', 'JP', 'TH', 'VN', 'RO', 'IL', 'ZA', 'SA', 'AE', 'BH', 'QA', 'OM', 'KW', 'EG', 'MA', 'DZ', 'TN', 'LB', 'JO', 'PS', 'IN', 'BY', 'KZ', 'MD', 'UA', 'AL', 'BA', 'HR', 'ME', 'MK', 'RS', 'SI', 'KR', 'BD', 'PK', 'LK', 'GH', 'KE', 'NG', 'TZ', 'UG', 'AG', 'AM', 'BS', 'BB', 'BZ', 'BT', 'BW', 'BF', 'CV', 'CW', 'DM', 'FJ', 'GM', 'GE', 'GD', 'GW', 'GY', 'HT', 'JM', 'KI', 'LS', 'LR', 'MW', 'MV', 'ML', 'MH', 'FM', 'NA', 'NR', 'NE', 'PW', 'PG', 'PR', 'WS', 'SM', 'ST', 'SN', 'SC', 'SL', 'SB', 'KN', 'LC', 'VC', 'SR', 'TL', 'TO', 'TT', 'TV', 'VU', 'AZ', 'BN', 'BI', 'KH', 'CM', 'TD', 'KM', 'GQ', 'SZ', 'GA', 'GN', 'KG', 'LA', 'MO', 'MR', 'MN', 'NP', 'RW', 'TG', 'UZ', 'ZW', 'BJ', 'MG', 'MU', 'MZ', 'AO', 'CI', 'DJ', 'ZM', 'CD', 'CG', 'IQ', 'LY', 'TJ', 'VE', 'ET', 'XK'], 'external_urls': {'spotify': 'https://open.spotify.com/album/7EJ5pXrSqqfybKyfbvlz84'}, 'href': 'https://api.spotify.com/v1/albums/7EJ5pXrSqqfybKyfbvlz84', 'id': '7EJ5pXrSqqfybKyfbvlz84', 'images': [{'url': 'https://i.scdn.co/image/ab67616d0000b2733b9211139eb247b12f6ba6c5', 'height': 640, 'width': 640}, {'url': 'https://i.scdn.co/image/ab67616d00001e023b9211139eb247b12f6ba6c5', 'height': 300, 'width': 300}, {'url': 'https://i.scdn.co/image/ab67616d000048513b9211139eb247b12f6ba6c5', 'height': 64, 'width': 64}], 'is_playable': True, 'name': 'Re', 'release_date': '1994-07-20', 'release_date_precision': 'day', 'total_tracks': 20, 'type': 'album', 'uri': 'spotify:album:7EJ5pXrSqqfybKyfbvlz84'}, 'artists': [{'external_urls': {'spotify': 'https://open.spotify.com/artist/09xj0S68Y1OU1vHMCZAIvz'}, 'href': 'https://api.spotify.com/v1/artists/09xj0S68Y1OU1vHMCZAIvz', 'id': '09xj0S68Y1OU1vHMCZAIvz', 'name': 'Café Tacvba', 'type': 'artist', 'uri': 'spotify:artist:09xj0S68Y1OU1vHMCZAIvz'}], 'available_markets': ['AR', 'AU', 'AT', 'BE', 'BO', 'BR', 'BG', 'CA', 'CL', 'CO', 'CR', 'CY', 'CZ', 'DK', 'DO', 'DE', 'EC', 'EE', 'SV', 'FI', 'FR', 'GR', 'GT', 'HN', 'HK', 'HU', 'IS', 'IE', 'IT', 'LV', 'LT', 'LU', 'MY', 'MT', 'MX', 'NL', 'NZ', 'NI', 'NO', 'PA', 'PY', 'PE', 'PH', 'PL', 'PT', 'SG', 'SK', 'ES', 'SE', 'CH', 'TW', 'TR', 'UY', 'US', 'GB', 'AD', 'LI', 'MC', 'ID', 'JP', 'TH', 'VN', 'RO', 'IL', 'ZA', 'SA', 'AE', 'BH', 'QA', 'OM', 'KW', 'EG', 'MA', 'DZ', 'TN', 'LB', 'JO', 'PS', 'IN', 'BY', 'KZ', 'MD', 'UA', 'AL', 'BA', 'HR', 'ME', 'MK', 'RS', 'SI', 'KR', 'BD', 'PK', 'LK', 'GH', 'KE', 'NG', 'TZ', 'UG', 'AG', 'AM', 'BS', 'BB', 'BZ', 'BT', 'BW', 'BF', 'CV', 'CW', 'DM', 'FJ', 'GM', 'GE', 'GD', 'GW', 'GY', 'HT', 'JM', 'KI', 'LS', 'LR', 'MW', 'MV', 'ML', 'MH', 'FM', 'NA', 'NR', 'NE', 'PW', 'PG', 'PR', 'WS', 'SM', 'ST', 'SN', 'SC', 'SL', 'SB', 'KN', 'LC', 'VC', 'SR', 'TL', 'TO', 'TT', 'TV', 'VU', 'AZ', 'BN', 'BI', 'KH', 'CM', 'TD', 'KM', 'GQ', 'SZ', 'GA', 'GN', 'KG', 'LA', 'MO', 'MR', 'MN', 'NP', 'RW', 'TG', 'UZ', 'ZW', 'BJ', 'MG', 'MU', 'MZ', 'AO', 'CI', 'DJ', 'ZM', 'CD', 'CG', 'IQ', 'LY', 'TJ', 'VE', 'ET', 'XK'], 'disc_number': 1, 'duration_ms': 212000, 'explicit': False, 'external_ids': {'isrc': 'MXF159400014'}, 'external_urls': {'spotify': 'https://open.spotify.com/track/19ScoKGqnfUggyqOVQjsoH'}, 'href': 'https://api.spotify.com/v1/tracks/19ScoKGqnfUggyqOVQjsoH', 'id': '19ScoKGqnfUggyqOVQjsoH', 'is_local': False, 'is_playable': True, 'name': 'La ingrata', 'popularity': 64, 'preview_url': None, 'track_number': 2, 'type': 'track', 'uri': 'spotify:track:19ScoKGqnfUggyqOVQjsoH'}, {'album': {'album_type': 'album', 'artists': [{'external_urls': {'spotify': 'https://open.spotify.com/artist/09xj0S68Y1OU1vHMCZAIvz'}, 'href': 'https://api.spotify.com/v1/artists/09xj0S68Y1OU1vHMCZAIvz', 'id': '09xj0S68Y1OU1vHMCZAIvz', 'name': 'Café Tacvba', 'type': 'artist', 'uri': 'spotify:artist:09xj0S68Y1OU1vHMCZAIvz'}], 'available_markets': ['AD', 'AE', 'AR', 'AT', 'AU', 'BA', 'BD', 'BE', 'BG', 'BH', 'BO', 'BR', 'BY', 'CH', 'CI', 'CL', 'CM', 'CO', 'CR', 'CW', 'CY', 'CZ', 'DE', 'DK', 'DO', 'DZ', 'EC', 'EE', 'EG', 'ES', 'FI', 'FJ', 'FR', 'GB', 'GN', 'GR', 'GT', 'HK', 'HN', 'HR', 'HU', 'ID', 'IE', 'IL', 'IN', 'IQ', 'IS', 'IT', 'JO', 'JP', 'KH', 'KR', 'KW', 'KZ', 'LA', 'LB', 'LI', 'LK', 'LT', 'LU', 'LV', 'LY', 'MA', 'MC', 'ME', 'MK', 'MT', 'MU', 'MX', 'MY', 'NG', 'NI', 'NL', 'NO', 'NZ', 'OM', 'PA', 'PE', 'PH', 'PL', 'PT', 'PY', 'QA', 'RO', 'RS', 'RW', 'SA', 'SE', 'SG', 'SI', 'SK', 'SN', 'SV', 'TH', 'TJ', 'TN', 'TR', 'TW', 'TZ', 'UA', 'US', 'VE', 'VN', 'XK', 'ZA'], 'external_urls': {'spotify': 'https://open.spotify.com/album/4yLlkceQbuq64zdFnxdCYB'}, 'href': 'https://api.spotify.com/v1/albums/4yLlkceQbuq64zdFnxdCYB', 'id': '4yLlkceQbuq64zdFnxdCYB', 'images': [{'url': 'https://i.scdn.co/image/ab67616d0000b273c0bcfc088e4d1537967bc61a', 'height': 640, 'width': 640}, {'url': 'https://i.scdn.co/image/ab67616d00001e02c0bcfc088e4d1537967bc61a', 'height': 300, 'width': 300}, {'url': 'https://i.scdn.co/image/ab67616d00004851c0bcfc088e4d1537967bc61a', 'height': 64, 'width': 64}], 'is_playable': True, 'name': 'SINO', 'release_date': '2007-01-01', 'release_date_precision': 'day', 'total_tracks': 15, 'type': 'album', 'uri': 'spotify:album:4yLlkceQbuq64zdFnxdCYB'}, 'artists': [{'external_urls': {'spotify': 'https://open.spotify.com/artist/09xj0S68Y1OU1vHMCZAIvz'}, 'href': 'https://api.spotify.com/v1/artists/09xj0S68Y1OU1vHMCZAIvz', 'id': '09xj0S68Y1OU1vHMCZAIvz', 'name': 'Café Tacvba', 'type': 'artist', 'uri': 'spotify:artist:09xj0S68Y1OU1vHMCZAIvz'}], 'available_markets': ['AD', 'AE', 'AR', 'AT', 'AU', 'BA', 'BD', 'BE', 'BG', 'BH', 'BO', 'BR', 'BY', 'CH', 'CI', 'CL', 'CM', 'CO', 'CR', 'CW', 'CY', 'CZ', 'DE', 'DK', 'DO', 'DZ', 'EC', 'EE', 'EG', 'ES', 'FI', 'FJ', 'FR', 'GB', 'GN', 'GR', 'GT', 'HK', 'HN', 'HR', 'HU', 'ID', 'IE', 'IL', 'IN', 'IQ', 'IS', 'IT', 'JO', 'JP', 'KH', 'KR', 'KW', 'KZ', 'LA', 'LB', 'LI', 'LK', 'LT', 'LU', 'LV', 'LY', 'MA', 'MC', 'ME', 'MK', 'MT', 'MU', 'MX', 'MY', 'NG', 'NI', 'NL', 'NO', 'NZ', 'OM', 'PA', 'PE', 'PH', 'PL', 'PT', 'PY', 'QA', 'RO', 'RS', 'RW', 'SA', 'SE', 'SG', 'SI', 'SK', 'SN', 'SV', 'TH', 'TJ', 'TN', 'TR', 'TW', 'TZ', 'UA', 'US', 'VE', 'VN', 'XK', 'ZA'], 'disc_number': 1, 'duration_ms': 205573, 'explicit': False, 'external_ids': {'isrc': 'USUM70750659'}, 'external_urls': {'spotify': 'https://open.spotify.com/track/7s41ZGjQB5Ur8T0fQlk5uM'}, 'href': 'https://api.spotify.com/v1/tracks/7s41ZGjQB5Ur8T0fQlk5uM', 'id': '7s41ZGjQB5Ur8T0fQlk5uM', 'is_local': False, 'is_playable': True, 'name': 'Quiero Ver', 'popularity': 63, 'preview_url': None, 'track_number': 13, 'type': 'track', 'uri': 'spotify:track:7s41ZGjQB5Ur8T0fQlk5uM'}, {'album': {'album_type': 'album', 'artists': [{'external_urls': {'spotify': 'https://open.spotify.com/artist/09xj0S68Y1OU1vHMCZAIvz'}, 'href': 'https://api.spotify.com/v1/artists/09xj0S68Y1OU1vHMCZAIvz', 'id': '09xj0S68Y1OU1vHMCZAIvz', 'name': 'Café Tacvba', 'type': 'artist', 'uri': 'spotify:artist:09xj0S68Y1OU1vHMCZAIvz'}], 'available_markets': ['AR', 'AU', 'AT', 'BE', 'BO', 'BR', 'BG', 'CA', 'CL', 'CO', 'CR', 'CY', 'CZ', 'DK', 'DO', 'DE', 'EC', 'EE', 'SV', 'FI', 'FR', 'GR', 'GT', 'HN', 'HK', 'HU', 'IS', 'IE', 'IT', 'LV', 'LT', 'LU', 'MY', 'MT', 'MX', 'NL', 'NZ', 'NI', 'NO', 'PA', 'PY', 'PE', 'PH', 'PL', 'PT', 'SG', 'SK', 'ES', 'SE', 'CH', 'TW', 'TR', 'UY', 'US', 'GB', 'AD', 'LI', 'MC', 'ID', 'JP', 'TH', 'VN', 'RO', 'IL', 'ZA', 'SA', 'AE', 'BH', 'QA', 'OM', 'KW', 'EG', 'MA', 'DZ', 'TN', 'LB', 'JO', 'PS', 'IN', 'BY', 'KZ', 'MD', 'UA', 'AL', 'BA', 'HR', 'ME', 'MK', 'RS', 'SI', 'KR', 'BD', 'PK', 'LK', 'GH', 'KE', 'NG', 'TZ', 'UG', 'AG', 'AM', 'BS', 'BB', 'BZ', 'BT', 'BW', 'BF', 'CV', 'CW', 'DM', 'FJ', 'GM', 'GE', 'GD', 'GW', 'GY', 'HT', 'JM', 'KI', 'LS', 'LR', 'MW', 'MV', 'ML', 'MH', 'FM', 'NA', 'NR', 'NE', 'PW', 'PG', 'PR', 'WS', 'SM', 'ST', 'SN', 'SC', 'SL', 'SB', 'KN', 'LC', 'VC', 'SR', 'TL', 'TO', 'TT', 'TV', 'VU', 'AZ', 'BN', 'BI', 'KH', 'CM', 'TD', 'KM', 'GQ', 'SZ', 'GA', 'GN', 'KG', 'LA', 'MO', 'MR', 'MN', 'NP', 'RW', 'TG', 'UZ', 'ZW', 'BJ', 'MG', 'MU', 'MZ', 'AO', 'CI', 'DJ', 'ZM', 'CD', 'CG', 'IQ', 'LY', 'TJ', 'VE', 'ET', 'XK'], 'external_urls': {'spotify': 'https://open.spotify.com/album/7EJ5pXrSqqfybKyfbvlz84'}, 'href': 'https://api.spotify.com/v1/albums/7EJ5pXrSqqfybKyfbvlz84', 'id': '7EJ5pXrSqqfybKyfbvlz84', 'images': [{'url': 'https://i.scdn.co/image/ab67616d0000b2733b9211139eb247b12f6ba6c5', 'height': 640, 'width': 640}, {'url': 'https://i.scdn.co/image/ab67616d00001e023b9211139eb247b12f6ba6c5', 'height': 300, 'width': 300}, {'url': 'https://i.scdn.co/image/ab67616d000048513b9211139eb247b12f6ba6c5', 'height': 64, 'width': 64}], 'is_playable': True, 'name': 'Re', 'release_date': '1994-07-20', 'release_date_precision': 'day', 'total_tracks': 20, 'type': 'album', 'uri': 'spotify:album:7EJ5pXrSqqfybKyfbvlz84'}, 'artists': [{'external_urls': {'spotify': 'https://open.spotify.com/artist/09xj0S68Y1OU1vHMCZAIvz'}, 'href': 'https://api.spotify.com/v1/artists/09xj0S68Y1OU1vHMCZAIvz', 'id': '09xj0S68Y1OU1vHMCZAIvz', 'name': 'Café Tacvba', 'type': 'artist', 'uri': 'spotify:artist:09xj0S68Y1OU1vHMCZAIvz'}], 'available_markets': ['AR', 'AU', 'AT', 'BE', 'BO', 'BR', 'BG', 'CA', 'CL', 'CO', 'CR', 'CY', 'CZ', 'DK', 'DO', 'DE', 'EC', 'EE', 'SV', 'FI', 'FR', 'GR', 'GT', 'HN', 'HK', 'HU', 'IS', 'IE', 'IT', 'LV', 'LT', 'LU', 'MY', 'MT', 'MX', 'NL', 'NZ', 'NI', 'NO', 'PA', 'PY', 'PE', 'PH', 'PL', 'PT', 'SG', 'SK', 'ES', 'SE', 'CH', 'TW', 'TR', 'UY', 'US', 'GB', 'AD', 'LI', 'MC', 'ID', 'JP', 'TH', 'VN', 'RO', 'IL', 'ZA', 'SA', 'AE', 'BH', 'QA', 'OM', 'KW', 'EG', 'MA', 'DZ', 'TN', 'LB', 'JO', 'PS', 'IN', 'BY', 'KZ', 'MD', 'UA', 'AL', 'BA', 'HR', 'ME', 'MK', 'RS', 'SI', 'KR', 'BD', 'PK', 'LK', 'GH', 'KE', 'NG', 'TZ', 'UG', 'AG', 'AM', 'BS', 'BB', 'BZ', 'BT', 'BW', 'BF', 'CV', 'CW', 'DM', 'FJ', 'GM', 'GE', 'GD', 'GW', 'GY', 'HT', 'JM', 'KI', 'LS', 'LR', 'MW', 'MV', 'ML', 'MH', 'FM', 'NA', 'NR', 'NE', 'PW', 'PG', 'PR', 'WS', 'SM', 'ST', 'SN', 'SC', 'SL', 'SB', 'KN', 'LC', 'VC', 'SR', 'TL', 'TO', 'TT', 'TV', 'VU', 'AZ', 'BN', 'BI', 'KH', 'CM', 'TD', 'KM', 'GQ', 'SZ', 'GA', 'GN', 'KG', 'LA', 'MO', 'MR', 'MN', 'NP', 'RW', 'TG', 'UZ', 'ZW', 'BJ', 'MG', 'MU', 'MZ', 'AO', 'CI', 'DJ', 'ZM', 'CD', 'CG', 'IQ', 'LY', 'TJ', 'VE', 'ET', 'XK'], 'disc_number': 1, 'duration_ms': 135133, 'explicit': False, 'external_ids': {'isrc': 'MXF159400028'}, 'external_urls': {'spotify': 'https://open.spotify.com/track/0oakHTPj4SF7Si0NAsLwi8'}, 'href': 'https://api.spotify.com/v1/tracks/0oakHTPj4SF7Si0NAsLwi8', 'id': '0oakHTPj4SF7Si0NAsLwi8', 'is_local': False, 'is_playable': True, 'name': 'Las flores', 'popularity': 62, 'preview_url': None, 'track_number': 16, 'type': 'track', 'uri': 'spotify:track:0oakHTPj4SF7Si0NAsLwi8'}, {'album': {'album_type': 'album', 'artists': [{'external_urls': {'spotify': 'https://open.spotify.com/artist/09xj0S68Y1OU1vHMCZAIvz'}, 'href': 'https://api.spotify.com/v1/artists/09xj0S68Y1OU1vHMCZAIvz', 'id': '09xj0S68Y1OU1vHMCZAIvz', 'name': 'Café Tacvba', 'type': 'artist', 'uri': 'spotify:artist:09xj0S68Y1OU1vHMCZAIvz'}], 'available_markets': ['AR', 'AU', 'AT', 'BE', 'BO', 'BR', 'BG', 'CA', 'CL', 'CO', 'CR', 'CY', 'CZ', 'DK', 'DO', 'DE', 'EC', 'EE', 'SV', 'FI', 'FR', 'GR', 'GT', 'HN', 'HK', 'HU', 'IS', 'IE', 'IT', 'LV', 'LT', 'LU', 'MY', 'MT', 'MX', 'NL', 'NZ', 'NI', 'NO', 'PA', 'PY', 'PE', 'PH', 'PL', 'PT', 'SG', 'SK', 'ES', 'SE', 'CH', 'TW', 'TR', 'UY', 'US', 'GB', 'AD', 'LI', 'MC', 'ID', 'JP', 'TH', 'VN', 'RO', 'IL', 'ZA', 'SA', 'AE', 'BH', 'QA', 'OM', 'KW', 'EG', 'MA', 'DZ', 'TN', 'LB', 'JO', 'PS', 'IN', 'BY', 'KZ', 'MD', 'UA', 'AL', 'BA', 'HR', 'ME', 'MK', 'RS', 'SI', 'KR', 'BD', 'PK', 'LK', 'GH', 'KE', 'NG', 'TZ', 'UG', 'AG', 'AM', 'BS', 'BB', 'BZ', 'BT', 'BW', 'BF', 'CV', 'CW', 'DM', 'FJ', 'GM', 'GE', 'GD', 'GW', 'GY', 'HT', 'JM', 'KI', 'LS', 'LR', 'MW', 'MV', 'ML', 'MH', 'FM', 'NA', 'NR', 'NE', 'PW', 'PG', 'PR', 'WS', 'SM', 'ST', 'SN', 'SC', 'SL', 'SB', 'KN', 'LC', 'VC', 'SR', 'TL', 'TO', 'TT', 'TV', 'VU', 'AZ', 'BN', 'BI', 'KH', 'CM', 'TD', 'KM', 'GQ', 'SZ', 'GA', 'GN', 'KG', 'LA', 'MO', 'MR', 'MN', 'NP', 'RW', 'TG', 'UZ', 'ZW', 'BJ', 'MG', 'MU', 'MZ', 'AO', 'CI', 'DJ', 'ZM', 'CD', 'CG', 'IQ', 'LY', 'TJ', 'VE', 'ET', 'XK'], 'external_urls': {'spotify': 'https://open.spotify.com/album/7EJ5pXrSqqfybKyfbvlz84'}, 'href': 'https://api.spotify.com/v1/albums/7EJ5pXrSqqfybKyfbvlz84', 'id': '7EJ5pXrSqqfybKyfbvlz84', 'images': [{'url': 'https://i.scdn.co/image/ab67616d0000b2733b9211139eb247b12f6ba6c5', 'height': 640, 'width': 640}, {'url': 'https://i.scdn.co/image/ab67616d00001e023b9211139eb247b12f6ba6c5', 'height': 300, 'width': 300}, {'url': 'https://i.scdn.co/image/ab67616d000048513b9211139eb247b12f6ba6c5', 'height': 64, 'width': 64}], 'is_playable': True, 'name': 'Re', 'release_date': '1994-07-20', 'release_date_precision': 'day', 'total_tracks': 20, 'type': 'album', 'uri': 'spotify:album:7EJ5pXrSqqfybKyfbvlz84'}, 'artists': [{'external_urls': {'spotify': 'https://open.spotify.com/artist/09xj0S68Y1OU1vHMCZAIvz'}, 'href': 'https://api.spotify.com/v1/artists/09xj0S68Y1OU1vHMCZAIvz', 'id': '09xj0S68Y1OU1vHMCZAIvz', 'name': 'Café Tacvba', 'type': 'artist', 'uri': 'spotify:artist:09xj0S68Y1OU1vHMCZAIvz'}], 'available_markets': ['AR', 'AU', 'AT', 'BE', 'BO', 'BR', 'BG', 'CA', 'CL', 'CO', 'CR', 'CY', 'CZ', 'DK', 'DO', 'DE', 'EC', 'EE', 'SV', 'FI', 'FR', 'GR', 'GT', 'HN', 'HK', 'HU', 'IS', 'IE', 'IT', 'LV', 'LT', 'LU', 'MY', 'MT', 'MX', 'NL', 'NZ', 'NI', 'NO', 'PA', 'PY', 'PE', 'PH', 'PL', 'PT', 'SG', 'SK', 'ES', 'SE', 'CH', 'TW', 'TR', 'UY', 'US', 'GB', 'AD', 'LI', 'MC', 'ID', 'JP', 'TH', 'VN', 'RO', 'IL', 'ZA', 'SA', 'AE', 'BH', 'QA', 'OM', 'KW', 'EG', 'MA', 'DZ', 'TN', 'LB', 'JO', 'PS', 'IN', 'BY', 'KZ', 'MD', 'UA', 'AL', 'BA', 'HR', 'ME', 'MK', 'RS', 'SI', 'KR', 'BD', 'PK', 'LK', 'GH', 'KE', 'NG', 'TZ', 'UG', 'AG', 'AM', 'BS', 'BB', 'BZ', 'BT', 'BW', 'BF', 'CV', 'CW', 'DM', 'FJ', 'GM', 'GE', 'GD', 'GW', 'GY', 'HT', 'JM', 'KI', 'LS', 'LR', 'MW', 'MV', 'ML', 'MH', 'FM', 'NA', 'NR', 'NE', 'PW', 'PG', 'PR', 'WS', 'SM', 'ST', 'SN', 'SC', 'SL', 'SB', 'KN', 'LC', 'VC', 'SR', 'TL', 'TO', 'TT', 'TV', 'VU', 'AZ', 'BN', 'BI', 'KH', 'CM', 'TD', 'KM', 'GQ', 'SZ', 'GA', 'GN', 'KG', 'LA', 'MO', 'MR', 'MN', 'NP', 'RW', 'TG', 'UZ', 'ZW', 'BJ', 'MG', 'MU', 'MZ', 'AO', 'CI', 'DJ', 'ZM', 'CD', 'CG', 'IQ', 'LY', 'TJ', 'VE', 'ET', 'XK'], 'disc_number': 1, 'duration_ms': 308040, 'explicit': False, 'external_ids': {'isrc': 'MXF159400030'}, 'external_urls': {'spotify': 'https://open.spotify.com/track/63QpuNHIZ8APaK37LkV8Xd'}, 'href': 'https://api.spotify.com/v1/tracks/63QpuNHIZ8APaK37LkV8Xd', 'id': '63QpuNHIZ8APaK37LkV8Xd', 'is_local': False, 'is_playable': True, 'name': 'El baile y el salón', 'popularity': 60, 'preview_url': None, 'track_number': 18, 'type': 'track', 'uri': 'spotify:track:63QpuNHIZ8APaK37LkV8Xd'}, {'album': {'album_type': 'album', 'artists': [{'external_urls': {'spotify': 'https://open.spotify.com/artist/09xj0S68Y1OU1vHMCZAIvz'}, 'href': 'https://api.spotify.com/v1/artists/09xj0S68Y1OU1vHMCZAIvz', 'id': '09xj0S68Y1OU1vHMCZAIvz', 'name': 'Café Tacvba', 'type': 'artist', 'uri': 'spotify:artist:09xj0S68Y1OU1vHMCZAIvz'}], 'available_markets': ['AG', 'AR', 'AT', 'BA', 'BB', 'BE', 'BO', 'BR', 'BS', 'CH', 'CL', 'CO', 'CR', 'CW', 'DE', 'DM', 'DO', 'EC', 'EE', 'ES', 'FI', 'FR', 'GD', 'GT', 'GY', 'HN', 'HR', 'HT', 'JM', 'JP', 'KN', 'LC', 'LT', 'LU', 'LV', 'ME', 'MK', 'MX', 'NI', 'NL', 'PA', 'PE', 'PH', 'PK', 'PY', 'RS', 'SA', 'SI', 'SR', 'SV', 'TT', 'US', 'UY', 'VC', 'VE', 'XK'], 'external_urls': {'spotify': 'https://open.spotify.com/album/2qbDaaW7eJ42FByw7pQkZQ'}, 'href': 'https://api.spotify.com/v1/albums/2qbDaaW7eJ42FByw7pQkZQ', 'id': '2qbDaaW7eJ42FByw7pQkZQ', 'images': [{'url': 'https://i.scdn.co/image/ab67616d0000b27316e5769c36966cb9a60600d6', 'height': 640, 'width': 640}, {'url': 'https://i.scdn.co/image/ab67616d00001e0216e5769c36966cb9a60600d6', 'height': 300, 'width': 300}, {'url': 'https://i.scdn.co/image/ab67616d0000485116e5769c36966cb9a60600d6', 'height': 64, 'width': 64}], 'is_playable': True, 'name': 'El Objeto Antes Llamado Disco', 'release_date': '2012-01-01', 'release_date_precision': 'day', 'total_tracks': 10, 'type': 'album', 'uri': 'spotify:album:2qbDaaW7eJ42FByw7pQkZQ'}, 'artists': [{'external_urls': {'spotify': 'https://open.spotify.com/artist/09xj0S68Y1OU1vHMCZAIvz'}, 'href': 'https://api.spotify.com/v1/artists/09xj0S68Y1OU1vHMCZAIvz', 'id': '09xj0S68Y1OU1vHMCZAIvz', 'name': 'Café Tacvba', 'type': 'artist', 'uri': 'spotify:artist:09xj0S68Y1OU1vHMCZAIvz'}], 'available_markets': ['AG', 'AR', 'AT', 'BA', 'BB', 'BE', 'BO', 'BR', 'BS', 'CH', 'CL', 'CO', 'CR', 'CW', 'DE', 'DM', 'DO', 'EC', 'EE', 'ES', 'FI', 'FR', 'GD', 'GT', 'GY', 'HN', 'HR', 'HT', 'JM', 'JP', 'KN', 'LC', 'LT', 'LU', 'LV', 'ME', 'MK', 'MX', 'NI', 'NL', 'PA', 'PE', 'PH', 'PK', 'PY', 'RS', 'SA', 'SI', 'SR', 'SV', 'TT', 'US', 'UY', 'VC', 'VE', 'XK'], 'disc_number': 1, 'duration_ms': 254173, 'explicit': False, 'external_ids': {'isrc': 'USUM71210466'}, 'external_urls': {'spotify': 'https://open.spotify.com/track/2GvI8j0DaIAGvubj5NinEF'}, 'href': 'https://api.spotify.com/v1/tracks/2GvI8j0DaIAGvubj5NinEF', 'id': '2GvI8j0DaIAGvubj5NinEF', 'is_local': False, 'is_playable': True, 'name': 'Aprovéchate', 'popularity': 59, 'preview_url': None, 'track_number': 6, 'type': 'track', 'uri': 'spotify:track:2GvI8j0DaIAGvubj5NinEF'}, {'album': {'album_type': 'album', 'artists': [{'external_urls': {'spotify': 'https://open.spotify.com/artist/09xj0S68Y1OU1vHMCZAIvz'}, 'href': 'https://api.spotify.com/v1/artists/09xj0S68Y1OU1vHMCZAIvz', 'id': '09xj0S68Y1OU1vHMCZAIvz', 'name': 'Café Tacvba', 'type': 'artist', 'uri': 'spotify:artist:09xj0S68Y1OU1vHMCZAIvz'}], 'available_markets': ['AR', 'AU', 'AT', 'BE', 'BO', 'BR', 'BG', 'CA', 'CL', 'CO', 'CR', 'CY', 'CZ', 'DK', 'DO', 'DE', 'EC', 'EE', 'SV', 'FI', 'FR', 'GR', 'GT', 'HN', 'HK', 'HU', 'IS', 'IE', 'IT', 'LV', 'LT', 'LU', 'MY', 'MT', 'MX', 'NL', 'NZ', 'NI', 'NO', 'PA', 'PY', 'PE', 'PH', 'PL', 'PT', 'SG', 'SK', 'ES', 'SE', 'CH', 'TW', 'TR', 'UY', 'US', 'GB', 'AD', 'LI', 'MC', 'ID', 'JP', 'TH', 'VN', 'RO', 'IL', 'ZA', 'SA', 'AE', 'BH', 'QA', 'OM', 'KW', 'EG', 'MA', 'DZ', 'TN', 'LB', 'JO', 'PS', 'IN', 'BY', 'KZ', 'MD', 'UA', 'AL', 'BA', 'HR', 'ME', 'MK', 'RS', 'SI', 'KR', 'BD', 'PK', 'LK', 'GH', 'KE', 'NG', 'TZ', 'UG', 'AG', 'AM', 'BS', 'BB', 'BZ', 'BT', 'BW', 'BF', 'CV', 'CW', 'DM', 'FJ', 'GM', 'GE', 'GD', 'GW', 'GY', 'HT', 'JM', 'KI', 'LS', 'LR', 'MW', 'MV', 'ML', 'MH', 'FM', 'NA', 'NR', 'NE', 'PW', 'PG', 'WS', 'SM', 'ST', 'SN', 'SC', 'SL', 'SB', 'KN', 'LC', 'VC', 'SR', 'TL', 'TO', 'TT', 'TV', 'VU', 'AZ', 'BN', 'BI', 'KH', 'CM', 'TD', 'KM', 'GQ', 'SZ', 'GA', 'GN', 'KG', 'LA', 'MO', 'MR', 'MN', 'NP', 'RW', 'TG', 'UZ', 'ZW', 'BJ', 'MG', 'MU', 'MZ', 'AO', 'CI', 'DJ', 'ZM', 'CD', 'CG', 'IQ', 'LY', 'TJ', 'VE', 'ET', 'XK'], 'external_urls': {'spotify': 'https://open.spotify.com/album/33iiSdb0XhQI0dSstspDls'}, 'href': 'https://api.spotify.com/v1/albums/33iiSdb0XhQI0dSstspDls', 'id': '33iiSdb0XhQI0dSstspDls', 'images': [{'url': 'https://i.scdn.co/image/ab67616d0000b27344fc111787f221cf5629a2b9', 'height': 640, 'width': 640}, {'url': 'https://i.scdn.co/image/ab67616d00001e0244fc111787f221cf5629a2b9', 'height': 300, 'width': 300}, {'url': 'https://i.scdn.co/image/ab67616d0000485144fc111787f221cf5629a2b9', 'height': 64, 'width': 64}], 'is_playable': True, 'name': 'Avalancha de éxitos', 'release_date': '1996', 'release_date_precision': 'year', 'total_tracks': 8, 'type': 'album', 'uri': 'spotify:album:33iiSdb0XhQI0dSstspDls'}, 'artists': [{'external_urls': {'spotify': 'https://open.spotify.com/artist/09xj0S68Y1OU1vHMCZAIvz'}, 'href': 'https://api.spotify.com/v1/artists/09xj0S68Y1OU1vHMCZAIvz', 'id': '09xj0S68Y1OU1vHMCZAIvz', 'name': 'Café Tacvba', 'type': 'artist', 'uri': 'spotify:artist:09xj0S68Y1OU1vHMCZAIvz'}], 'available_markets': ['AR', 'AU', 'AT', 'BE', 'BO', 'BR', 'BG', 'CA', 'CL', 'CO', 'CR', 'CY', 'CZ', 'DK', 'DO', 'DE', 'EC', 'EE', 'SV', 'FI', 'FR', 'GR', 'GT', 'HN', 'HK', 'HU', 'IS', 'IE', 'IT', 'LV', 'LT', 'LU', 'MY', 'MT', 'MX', 'NL', 'NZ', 'NI', 'NO', 'PA', 'PY', 'PE', 'PH', 'PL', 'PT', 'SG', 'SK', 'ES', 'SE', 'CH', 'TW', 'TR', 'UY', 'US', 'GB', 'AD', 'LI', 'MC', 'ID', 'JP', 'TH', 'VN', 'RO', 'IL', 'ZA', 'SA', 'AE', 'BH', 'QA', 'OM', 'KW', 'EG', 'MA', 'DZ', 'TN', 'LB', 'JO', 'PS', 'IN', 'BY', 'KZ', 'MD', 'UA', 'AL', 'BA', 'HR', 'ME', 'MK', 'RS', 'SI', 'KR', 'BD', 'PK', 'LK', 'GH', 'KE', 'NG', 'TZ', 'UG', 'AG', 'AM', 'BS', 'BB', 'BZ', 'BT', 'BW', 'BF', 'CV', 'CW', 'DM', 'FJ', 'GM', 'GE', 'GD', 'GW', 'GY', 'HT', 'JM', 'KI', 'LS', 'LR', 'MW', 'MV', 'ML', 'MH', 'FM', 'NA', 'NR', 'NE', 'PW', 'PG', 'WS', 'SM', 'ST', 'SN', 'SC', 'SL', 'SB', 'KN', 'LC', 'VC', 'SR', 'TL', 'TO', 'TT', 'TV', 'VU', 'AZ', 'BN', 'BI', 'KH', 'CM', 'TD', 'KM', 'GQ', 'SZ', 'GA', 'GN', 'KG', 'LA', 'MO', 'MR', 'MN', 'NP', 'RW', 'TG', 'UZ', 'ZW', 'BJ', 'MG', 'MU', 'MZ', 'AO', 'CI', 'DJ', 'ZM', 'CD', 'CG', 'IQ', 'LY', 'TJ', 'VE', 'ET', 'XK'], 'disc_number': 1, 'duration_ms': 212066, 'explicit': False, 'external_ids': {'isrc': 'MXF159700001'}, 'external_urls': {'spotify': 'https://open.spotify.com/track/6004tMws4nCQqtGBaInsF0'}, 'href': 'https://api.spotify.com/v1/tracks/6004tMws4nCQqtGBaInsF0', 'id': '6004tMws4nCQqtGBaInsF0', 'is_local': False, 'is_playable': True, 'name': 'Chilanga banda', 'popularity': 55, 'preview_url': None, 'track_number': 1, 'type': 'track', 'uri': 'spotify:track:6004tMws4nCQqtGBaInsF0'}, {'album': {'album_type': 'album', 'artists': [{'external_urls': {'spotify': 'https://open.spotify.com/artist/09xj0S68Y1OU1vHMCZAIvz'}, 'href': 'https://api.spotify.com/v1/artists/09xj0S68Y1OU1vHMCZAIvz', 'id': '09xj0S68Y1OU1vHMCZAIvz', 'name': 'Café Tacvba', 'type': 'artist', 'uri': 'spotify:artist:09xj0S68Y1OU1vHMCZAIvz'}], 'available_markets': ['AR', 'AU', 'AT', 'BE', 'BO', 'BR', 'BG', 'CA', 'CL', 'CO', 'CR', 'CY', 'CZ', 'DK', 'DO', 'DE', 'EC', 'EE', 'SV', 'FI', 'FR', 'GR', 'GT', 'HN', 'HK', 'HU', 'IS', 'IE', 'IT', 'LV', 'LT', 'LU', 'MY', 'MT', 'MX', 'NL', 'NZ', 'NI', 'NO', 'PA', 'PY', 'PE', 'PH', 'PL', 'PT', 'SG', 'SK', 'ES', 'SE', 'CH', 'TW', 'TR', 'UY', 'US', 'GB', 'AD', 'LI', 'MC', 'ID', 'JP', 'TH', 'VN', 'RO', 'IL', 'ZA', 'SA', 'AE', 'BH', 'QA', 'OM', 'KW', 'EG', 'MA', 'DZ', 'TN', 'LB', 'JO', 'PS', 'IN', 'BY', 'KZ', 'MD', 'UA', 'AL', 'BA', 'HR', 'ME', 'MK', 'RS', 'SI', 'KR', 'BD', 'PK', 'LK', 'GH', 'KE', 'NG', 'TZ', 'UG', 'AG', 'AM', 'BS', 'BB', 'BZ', 'BT', 'BW', 'BF', 'CV', 'CW', 'DM', 'FJ', 'GM', 'GE', 'GD', 'GW', 'GY', 'HT', 'JM', 'KI', 'LS', 'LR', 'MW', 'MV', 'ML', 'MH', 'FM', 'NA', 'NR', 'NE', 'PW', 'PG', 'PR', 'WS', 'SM', 'ST', 'SN', 'SC', 'SL', 'SB', 'KN', 'LC', 'VC', 'SR', 'TL', 'TO', 'TT', 'TV', 'VU', 'AZ', 'BN', 'BI', 'KH', 'CM', 'TD', 'KM', 'GQ', 'SZ', 'GA', 'GN', 'KG', 'LA', 'MO', 'MR', 'MN', 'NP', 'RW', 'TG', 'UZ', 'ZW', 'BJ', 'MG', 'MU', 'MZ', 'AO', 'CI', 'DJ', 'ZM', 'CD', 'CG', 'IQ', 'LY', 'TJ', 'VE', 'ET', 'XK'], 'external_urls': {'spotify': 'https://open.spotify.com/album/7EJ5pXrSqqfybKyfbvlz84'}, 'href': 'https://api.spotify.com/v1/albums/7EJ5pXrSqqfybKyfbvlz84', 'id': '7EJ5pXrSqqfybKyfbvlz84', 'images': [{'url': 'https://i.scdn.co/image/ab67616d0000b2733b9211139eb247b12f6ba6c5', 'height': 640, 'width': 640}, {'url': 'https://i.scdn.co/image/ab67616d00001e023b9211139eb247b12f6ba6c5', 'height': 300, 'width': 300}, {'url': 'https://i.scdn.co/image/ab67616d000048513b9211139eb247b12f6ba6c5', 'height': 64, 'width': 64}], 'is_playable': True, 'name': 'Re', 'release_date': '1994-07-20', 'release_date_precision': 'day', 'total_tracks': 20, 'type': 'album', 'uri': 'spotify:album:7EJ5pXrSqqfybKyfbvlz84'}, 'artists': [{'external_urls': {'spotify': 'https://open.spotify.com/artist/09xj0S68Y1OU1vHMCZAIvz'}, 'href': 'https://api.spotify.com/v1/artists/09xj0S68Y1OU1vHMCZAIvz', 'id': '09xj0S68Y1OU1vHMCZAIvz', 'name': 'Café Tacvba', 'type': 'artist', 'uri': 'spotify:artist:09xj0S68Y1OU1vHMCZAIvz'}], 'available_markets': ['AR', 'AU', 'AT', 'BE', 'BO', 'BR', 'BG', 'CA', 'CL', 'CO', 'CR', 'CY', 'CZ', 'DK', 'DO', 'DE', 'EC', 'EE', 'SV', 'FI', 'FR', 'GR', 'GT', 'HN', 'HK', 'HU', 'IS', 'IE', 'IT', 'LV', 'LT', 'LU', 'MY', 'MT', 'MX', 'NL', 'NZ', 'NI', 'NO', 'PA', 'PY', 'PE', 'PH', 'PL', 'PT', 'SG', 'SK', 'ES', 'SE', 'CH', 'TW', 'TR', 'UY', 'US', 'GB', 'AD', 'LI', 'MC', 'ID', 'JP', 'TH', 'VN', 'RO', 'IL', 'ZA', 'SA', 'AE', 'BH', 'QA', 'OM', 'KW', 'EG', 'MA', 'DZ', 'TN', 'LB', 'JO', 'PS', 'IN', 'BY', 'KZ', 'MD', 'UA', 'AL', 'BA', 'HR', 'ME', 'MK', 'RS', 'SI', 'KR', 'BD', 'PK', 'LK', 'GH', 'KE', 'NG', 'TZ', 'UG', 'AG', 'AM', 'BS', 'BB', 'BZ', 'BT', 'BW', 'BF', 'CV', 'CW', 'DM', 'FJ', 'GM', 'GE', 'GD', 'GW', 'GY', 'HT', 'JM', 'KI', 'LS', 'LR', 'MW', 'MV', 'ML', 'MH', 'FM', 'NA', 'NR', 'NE', 'PW', 'PG', 'PR', 'WS', 'SM', 'ST', 'SN', 'SC', 'SL', 'SB', 'KN', 'LC', 'VC', 'SR', 'TL', 'TO', 'TT', 'TV', 'VU', 'AZ', 'BN', 'BI', 'KH', 'CM', 'TD', 'KM', 'GQ', 'SZ', 'GA', 'GN', 'KG', 'LA', 'MO', 'MR', 'MN', 'NP', 'RW', 'TG', 'UZ', 'ZW', 'BJ', 'MG', 'MU', 'MZ', 'AO', 'CI', 'DJ', 'ZM', 'CD', 'CG', 'IQ', 'LY', 'TJ', 'VE', 'ET', 'XK'], 'disc_number': 1, 'duration_ms': 206373, 'explicit': False, 'external_ids': {'isrc': 'MXF159400017'}, 'external_urls': {'spotify': 'https://open.spotify.com/track/2jggaUpOvn2G6Pv2HCEU6m'}, 'href': 'https://api.spotify.com/v1/tracks/2jggaUpOvn2G6Pv2HCEU6m', 'id': '2jggaUpOvn2G6Pv2HCEU6m', 'is_local': False, 'is_playable': True, 'name': 'Esa noche', 'popularity': 56, 'preview_url': None, 'track_number': 5, 'type': 'track', 'uri': 'spotify:track:2jggaUpOvn2G6Pv2HCEU6m'}, {'album': {'album_type': 'album', 'artists': [{'external_urls': {'spotify': 'https://open.spotify.com/artist/09xj0S68Y1OU1vHMCZAIvz'}, 'href': 'https://api.spotify.com/v1/artists/09xj0S68Y1OU1vHMCZAIvz', 'id': '09xj0S68Y1OU1vHMCZAIvz', 'name': 'Café Tacvba', 'type': 'artist', 'uri': 'spotify:artist:09xj0S68Y1OU1vHMCZAIvz'}], 'available_markets': ['AR', 'AU', 'AT', 'BE', 'BO', 'BR', 'BG', 'CA', 'CL', 'CO', 'CR', 'CY', 'CZ', 'DK', 'DO', 'DE', 'EC', 'EE', 'SV', 'FI', 'FR', 'GR', 'GT', 'HN', 'HK', 'HU', 'IS', 'IE', 'IT', 'LV', 'LT', 'LU', 'MY', 'MT', 'MX', 'NL', 'NZ', 'NI', 'NO', 'PA', 'PY', 'PE', 'PH', 'PL', 'PT', 'SG', 'SK', 'ES', 'SE', 'CH', 'TW', 'TR', 'UY', 'US', 'GB', 'AD', 'LI', 'MC', 'ID', 'JP', 'TH', 'VN', 'RO', 'IL', 'ZA', 'SA', 'AE', 'BH', 'QA', 'OM', 'KW', 'EG', 'MA', 'DZ', 'TN', 'LB', 'JO', 'PS', 'IN', 'BY', 'KZ', 'MD', 'UA', 'AL', 'BA', 'HR', 'ME', 'MK', 'RS', 'SI', 'KR', 'BD', 'PK', 'LK', 'GH', 'KE', 'NG', 'TZ', 'UG', 'AG', 'AM', 'BS', 'BB', 'BZ', 'BT', 'BW', 'BF', 'CV', 'CW', 'DM', 'FJ', 'GM', 'GE', 'GD', 'GW', 'GY', 'HT', 'JM', 'KI', 'LS', 'LR', 'MW', 'MV', 'ML', 'MH', 'FM', 'NA', 'NR', 'NE', 'PW', 'PG', 'PR', 'WS', 'SM', 'ST', 'SN', 'SC', 'SL', 'SB', 'KN', 'LC', 'VC', 'SR', 'TL', 'TO', 'TT', 'TV', 'VU', 'AZ', 'BN', 'BI', 'KH', 'CM', 'TD', 'KM', 'GQ', 'SZ', 'GA', 'GN', 'KG', 'LA', 'MO', 'MR', 'MN', 'NP', 'RW', 'TG', 'UZ', 'ZW', 'BJ', 'MG', 'MU', 'MZ', 'AO', 'CI', 'DJ', 'ZM', 'CD', 'CG', 'IQ', 'LY', 'TJ', 'VE', 'ET', 'XK'], 'external_urls': {'spotify': 'https://open.spotify.com/album/4nTUHZSed3ZiQjKs8f5Zbr'}, 'href': 'https://api.spotify.com/v1/albums/4nTUHZSed3ZiQjKs8f5Zbr', 'id': '4nTUHZSed3ZiQjKs8f5Zbr', 'images': [{'url': 'https://i.scdn.co/image/ab67616d0000b27336398f1846814deffed9f138', 'height': 640, 'width': 640}, {'url': 'https://i.scdn.co/image/ab67616d00001e0236398f1846814deffed9f138', 'height': 300, 'width': 300}, {'url': 'https://i.scdn.co/image/ab67616d0000485136398f1846814deffed9f138', 'height': 64, 'width': 64}], 'is_playable': True, 'name': 'Café Tacvba', 'release_date': '1992-07-13', 'release_date_precision': 'day', 'total_tracks': 13, 'type': 'album', 'uri': 'spotify:album:4nTUHZSed3ZiQjKs8f5Zbr'}, 'artists': [{'external_urls': {'spotify': 'https://open.spotify.com/artist/09xj0S68Y1OU1vHMCZAIvz'}, 'href': 'https://api.spotify.com/v1/artists/09xj0S68Y1OU1vHMCZAIvz', 'id': '09xj0S68Y1OU1vHMCZAIvz', 'name': 'Café Tacvba', 'type': 'artist', 'uri': 'spotify:artist:09xj0S68Y1OU1vHMCZAIvz'}], 'available_markets': ['AR', 'AU', 'AT', 'BE', 'BO', 'BR', 'BG', 'CA', 'CL', 'CO', 'CR', 'CY', 'CZ', 'DK', 'DO', 'DE', 'EC', 'EE', 'SV', 'FI', 'FR', 'GR', 'GT', 'HN', 'HK', 'HU', 'IS', 'IE', 'IT', 'LV', 'LT', 'LU', 'MY', 'MT', 'MX', 'NL', 'NZ', 'NI', 'NO', 'PA', 'PY', 'PE', 'PH', 'PL', 'PT', 'SG', 'SK', 'ES', 'SE', 'CH', 'TW', 'TR', 'UY', 'US', 'GB', 'AD', 'LI', 'MC', 'ID', 'JP', 'TH', 'VN', 'RO', 'IL', 'ZA', 'SA', 'AE', 'BH', 'QA', 'OM', 'KW', 'EG', 'MA', 'DZ', 'TN', 'LB', 'JO', 'PS', 'IN', 'BY', 'KZ', 'MD', 'UA', 'AL', 'BA', 'HR', 'ME', 'MK', 'RS', 'SI', 'KR', 'BD', 'PK', 'LK', 'GH', 'KE', 'NG', 'TZ', 'UG', 'AG', 'AM', 'BS', 'BB', 'BZ', 'BT', 'BW', 'BF', 'CV', 'CW', 'DM', 'FJ', 'GM', 'GE', 'GD', 'GW', 'GY', 'HT', 'JM', 'KI', 'LS', 'LR', 'MW', 'MV', 'ML', 'MH', 'FM', 'NA', 'NR', 'NE', 'PW', 'PG', 'PR', 'WS', 'SM', 'ST', 'SN', 'SC', 'SL', 'SB', 'KN', 'LC', 'VC', 'SR', 'TL', 'TO', 'TT', 'TV', 'VU', 'AZ', 'BN', 'BI', 'KH', 'CM', 'TD', 'KM', 'GQ', 'SZ', 'GA', 'GN', 'KG', 'LA', 'MO', 'MR', 'MN', 'NP', 'RW', 'TG', 'UZ', 'ZW', 'BJ', 'MG', 'MU', 'MZ', 'AO', 'CI', 'DJ', 'ZM', 'CD', 'CG', 'IQ', 'LY', 'TJ', 'VE', 'ET', 'XK'], 'disc_number': 1, 'duration_ms': 205026, 'explicit': False, 'external_ids': {'isrc': 'MXF159200022'}, 'external_urls': {'spotify': 'https://open.spotify.com/track/4HTQcxErjqv1Up3ZOoJ1di'}, 'href': 'https://api.spotify.com/v1/tracks/4HTQcxErjqv1Up3ZOoJ1di', 'id': '4HTQcxErjqv1Up3ZOoJ1di', 'is_local': False, 'is_playable': True, 'name': 'Las batallas', 'popularity': 55, 'preview_url': None, 'track_number': 2, 'type': 'track', 'uri': 'spotify:track:4HTQcxErjqv1Up3ZOoJ1di'}]}\n"
                    ]
                }
            ],
            "source": [
                "artist_id = '09xj0S68Y1OU1vHMCZAIvz'\n",
                "\n",
                "response = con.artist_top_tracks(artist_id)\n",
                "\n",
                "print(response)"
            ]
        },
        {
            "cell_type": "code",
            "execution_count": 16,
            "metadata": {},
            "outputs": [
                {
                    "name": "stdout",
                    "output_type": "stream",
                    "text": [
                        "Café Tacvba\n"
                    ]
                }
            ],
            "source": [
                "if response:\n",
                "    tracks = response['tracks']\n",
                "\n",
                "print(tracks[0]['artists'][0]['name'])\n",
                "\n",
                "tracks1 = [{k:(v/(1000*60)%60) if k == 'duration_ms' else v for k,v in track.items() if k in ['name', 'popularity','duration_ms']} for track in tracks]"
            ]
        },
        {
            "cell_type": "code",
            "execution_count": 20,
            "metadata": {},
            "outputs": [
                {
                    "name": "stdout",
                    "output_type": "stream",
                    "text": [
                        "{'duration_ms': 36.00000000000182}\n",
                        "{'duration_ms': 36.00000000000182, 'name': 'Eres'}\n",
                        "{'duration_ms': 36.00000000000182, 'name': 'Eres', 'popularity': 74}\n",
                        "{'duration_ms': 52.79999999999927}\n",
                        "{'duration_ms': 52.79999999999927, 'name': 'Como te extraño mi amor'}\n",
                        "{'duration_ms': 52.79999999999927, 'name': 'Como te extraño mi amor', 'popularity': 67}\n",
                        "{'duration_ms': 0.0}\n",
                        "{'duration_ms': 0.0, 'name': 'La ingrata'}\n",
                        "{'duration_ms': 0.0, 'name': 'La ingrata', 'popularity': 64}\n",
                        "{'duration_ms': 34.38000000000102}\n",
                        "{'duration_ms': 34.38000000000102, 'name': 'Quiero Ver'}\n",
                        "{'duration_ms': 34.38000000000102, 'name': 'Quiero Ver', 'popularity': 63}\n",
                        "{'duration_ms': 7.980000000000473}\n",
                        "{'duration_ms': 7.980000000000473, 'name': 'Las flores'}\n",
                        "{'duration_ms': 7.980000000000473, 'name': 'Las flores', 'popularity': 62}\n",
                        "{'duration_ms': 2.400000000001455}\n",
                        "{'duration_ms': 2.400000000001455, 'name': 'El baile y el salón'}\n",
                        "{'duration_ms': 2.400000000001455, 'name': 'El baile y el salón', 'popularity': 60}\n",
                        "{'duration_ms': 10.380000000001019}\n",
                        "{'duration_ms': 10.380000000001019, 'name': 'Aprovéchate'}\n",
                        "{'duration_ms': 10.380000000001019, 'name': 'Aprovéchate', 'popularity': 59}\n",
                        "{'duration_ms': 3.960000000000946}\n",
                        "{'duration_ms': 3.960000000000946, 'name': 'Chilanga banda'}\n",
                        "{'duration_ms': 3.960000000000946, 'name': 'Chilanga banda', 'popularity': 55}\n",
                        "{'duration_ms': 22.3799999999992}\n",
                        "{'duration_ms': 22.3799999999992, 'name': 'Esa noche'}\n",
                        "{'duration_ms': 22.3799999999992, 'name': 'Esa noche', 'popularity': 56}\n",
                        "{'duration_ms': 1.5600000000013097}\n",
                        "{'duration_ms': 1.5600000000013097, 'name': 'Las batallas'}\n",
                        "{'duration_ms': 1.5600000000013097, 'name': 'Las batallas', 'popularity': 55}\n",
                        "[{'duration_ms': 36.00000000000182, 'name': 'Eres', 'popularity': 74}, {'duration_ms': 36.00000000000182, 'name': 'Eres', 'popularity': 74}, {'duration_ms': 36.00000000000182, 'name': 'Eres', 'popularity': 74}, {'duration_ms': 36.00000000000182, 'name': 'Eres', 'popularity': 74}, {'duration_ms': 36.00000000000182, 'name': 'Eres', 'popularity': 74}, {'duration_ms': 36.00000000000182, 'name': 'Eres', 'popularity': 74}, {'duration_ms': 36.00000000000182, 'name': 'Eres', 'popularity': 74}, {'duration_ms': 36.00000000000182, 'name': 'Eres', 'popularity': 74}, {'duration_ms': 36.00000000000182, 'name': 'Eres', 'popularity': 74}, {'duration_ms': 36.00000000000182, 'name': 'Eres', 'popularity': 74}, {'duration_ms': 36.00000000000182, 'name': 'Eres', 'popularity': 74}, {'duration_ms': 36.00000000000182, 'name': 'Eres', 'popularity': 74}, {'duration_ms': 36.00000000000182, 'name': 'Eres', 'popularity': 74}, {'duration_ms': 36.00000000000182, 'name': 'Eres', 'popularity': 74}, {'duration_ms': 36.00000000000182, 'name': 'Eres', 'popularity': 74}, {'duration_ms': 36.00000000000182, 'name': 'Eres', 'popularity': 74}, {'duration_ms': 36.00000000000182, 'name': 'Eres', 'popularity': 74}, {'duration_ms': 36.00000000000182, 'name': 'Eres', 'popularity': 74}, {'duration_ms': 52.79999999999927, 'name': 'Como te extraño mi amor', 'popularity': 67}, {'duration_ms': 52.79999999999927, 'name': 'Como te extraño mi amor', 'popularity': 67}, {'duration_ms': 52.79999999999927, 'name': 'Como te extraño mi amor', 'popularity': 67}, {'duration_ms': 52.79999999999927, 'name': 'Como te extraño mi amor', 'popularity': 67}, {'duration_ms': 52.79999999999927, 'name': 'Como te extraño mi amor', 'popularity': 67}, {'duration_ms': 52.79999999999927, 'name': 'Como te extraño mi amor', 'popularity': 67}, {'duration_ms': 52.79999999999927, 'name': 'Como te extraño mi amor', 'popularity': 67}, {'duration_ms': 52.79999999999927, 'name': 'Como te extraño mi amor', 'popularity': 67}, {'duration_ms': 52.79999999999927, 'name': 'Como te extraño mi amor', 'popularity': 67}, {'duration_ms': 52.79999999999927, 'name': 'Como te extraño mi amor', 'popularity': 67}, {'duration_ms': 52.79999999999927, 'name': 'Como te extraño mi amor', 'popularity': 67}, {'duration_ms': 52.79999999999927, 'name': 'Como te extraño mi amor', 'popularity': 67}, {'duration_ms': 52.79999999999927, 'name': 'Como te extraño mi amor', 'popularity': 67}, {'duration_ms': 52.79999999999927, 'name': 'Como te extraño mi amor', 'popularity': 67}, {'duration_ms': 52.79999999999927, 'name': 'Como te extraño mi amor', 'popularity': 67}, {'duration_ms': 52.79999999999927, 'name': 'Como te extraño mi amor', 'popularity': 67}, {'duration_ms': 52.79999999999927, 'name': 'Como te extraño mi amor', 'popularity': 67}, {'duration_ms': 52.79999999999927, 'name': 'Como te extraño mi amor', 'popularity': 67}, {'duration_ms': 0.0, 'name': 'La ingrata', 'popularity': 64}, {'duration_ms': 0.0, 'name': 'La ingrata', 'popularity': 64}, {'duration_ms': 0.0, 'name': 'La ingrata', 'popularity': 64}, {'duration_ms': 0.0, 'name': 'La ingrata', 'popularity': 64}, {'duration_ms': 0.0, 'name': 'La ingrata', 'popularity': 64}, {'duration_ms': 0.0, 'name': 'La ingrata', 'popularity': 64}, {'duration_ms': 0.0, 'name': 'La ingrata', 'popularity': 64}, {'duration_ms': 0.0, 'name': 'La ingrata', 'popularity': 64}, {'duration_ms': 0.0, 'name': 'La ingrata', 'popularity': 64}, {'duration_ms': 0.0, 'name': 'La ingrata', 'popularity': 64}, {'duration_ms': 0.0, 'name': 'La ingrata', 'popularity': 64}, {'duration_ms': 0.0, 'name': 'La ingrata', 'popularity': 64}, {'duration_ms': 0.0, 'name': 'La ingrata', 'popularity': 64}, {'duration_ms': 0.0, 'name': 'La ingrata', 'popularity': 64}, {'duration_ms': 0.0, 'name': 'La ingrata', 'popularity': 64}, {'duration_ms': 0.0, 'name': 'La ingrata', 'popularity': 64}, {'duration_ms': 0.0, 'name': 'La ingrata', 'popularity': 64}, {'duration_ms': 0.0, 'name': 'La ingrata', 'popularity': 64}, {'duration_ms': 34.38000000000102, 'name': 'Quiero Ver', 'popularity': 63}, {'duration_ms': 34.38000000000102, 'name': 'Quiero Ver', 'popularity': 63}, {'duration_ms': 34.38000000000102, 'name': 'Quiero Ver', 'popularity': 63}, {'duration_ms': 34.38000000000102, 'name': 'Quiero Ver', 'popularity': 63}, {'duration_ms': 34.38000000000102, 'name': 'Quiero Ver', 'popularity': 63}, {'duration_ms': 34.38000000000102, 'name': 'Quiero Ver', 'popularity': 63}, {'duration_ms': 34.38000000000102, 'name': 'Quiero Ver', 'popularity': 63}, {'duration_ms': 34.38000000000102, 'name': 'Quiero Ver', 'popularity': 63}, {'duration_ms': 34.38000000000102, 'name': 'Quiero Ver', 'popularity': 63}, {'duration_ms': 34.38000000000102, 'name': 'Quiero Ver', 'popularity': 63}, {'duration_ms': 34.38000000000102, 'name': 'Quiero Ver', 'popularity': 63}, {'duration_ms': 34.38000000000102, 'name': 'Quiero Ver', 'popularity': 63}, {'duration_ms': 34.38000000000102, 'name': 'Quiero Ver', 'popularity': 63}, {'duration_ms': 34.38000000000102, 'name': 'Quiero Ver', 'popularity': 63}, {'duration_ms': 34.38000000000102, 'name': 'Quiero Ver', 'popularity': 63}, {'duration_ms': 34.38000000000102, 'name': 'Quiero Ver', 'popularity': 63}, {'duration_ms': 34.38000000000102, 'name': 'Quiero Ver', 'popularity': 63}, {'duration_ms': 34.38000000000102, 'name': 'Quiero Ver', 'popularity': 63}, {'duration_ms': 7.980000000000473, 'name': 'Las flores', 'popularity': 62}, {'duration_ms': 7.980000000000473, 'name': 'Las flores', 'popularity': 62}, {'duration_ms': 7.980000000000473, 'name': 'Las flores', 'popularity': 62}, {'duration_ms': 7.980000000000473, 'name': 'Las flores', 'popularity': 62}, {'duration_ms': 7.980000000000473, 'name': 'Las flores', 'popularity': 62}, {'duration_ms': 7.980000000000473, 'name': 'Las flores', 'popularity': 62}, {'duration_ms': 7.980000000000473, 'name': 'Las flores', 'popularity': 62}, {'duration_ms': 7.980000000000473, 'name': 'Las flores', 'popularity': 62}, {'duration_ms': 7.980000000000473, 'name': 'Las flores', 'popularity': 62}, {'duration_ms': 7.980000000000473, 'name': 'Las flores', 'popularity': 62}, {'duration_ms': 7.980000000000473, 'name': 'Las flores', 'popularity': 62}, {'duration_ms': 7.980000000000473, 'name': 'Las flores', 'popularity': 62}, {'duration_ms': 7.980000000000473, 'name': 'Las flores', 'popularity': 62}, {'duration_ms': 7.980000000000473, 'name': 'Las flores', 'popularity': 62}, {'duration_ms': 7.980000000000473, 'name': 'Las flores', 'popularity': 62}, {'duration_ms': 7.980000000000473, 'name': 'Las flores', 'popularity': 62}, {'duration_ms': 7.980000000000473, 'name': 'Las flores', 'popularity': 62}, {'duration_ms': 7.980000000000473, 'name': 'Las flores', 'popularity': 62}, {'duration_ms': 2.400000000001455, 'name': 'El baile y el salón', 'popularity': 60}, {'duration_ms': 2.400000000001455, 'name': 'El baile y el salón', 'popularity': 60}, {'duration_ms': 2.400000000001455, 'name': 'El baile y el salón', 'popularity': 60}, {'duration_ms': 2.400000000001455, 'name': 'El baile y el salón', 'popularity': 60}, {'duration_ms': 2.400000000001455, 'name': 'El baile y el salón', 'popularity': 60}, {'duration_ms': 2.400000000001455, 'name': 'El baile y el salón', 'popularity': 60}, {'duration_ms': 2.400000000001455, 'name': 'El baile y el salón', 'popularity': 60}, {'duration_ms': 2.400000000001455, 'name': 'El baile y el salón', 'popularity': 60}, {'duration_ms': 2.400000000001455, 'name': 'El baile y el salón', 'popularity': 60}, {'duration_ms': 2.400000000001455, 'name': 'El baile y el salón', 'popularity': 60}, {'duration_ms': 2.400000000001455, 'name': 'El baile y el salón', 'popularity': 60}, {'duration_ms': 2.400000000001455, 'name': 'El baile y el salón', 'popularity': 60}, {'duration_ms': 2.400000000001455, 'name': 'El baile y el salón', 'popularity': 60}, {'duration_ms': 2.400000000001455, 'name': 'El baile y el salón', 'popularity': 60}, {'duration_ms': 2.400000000001455, 'name': 'El baile y el salón', 'popularity': 60}, {'duration_ms': 2.400000000001455, 'name': 'El baile y el salón', 'popularity': 60}, {'duration_ms': 2.400000000001455, 'name': 'El baile y el salón', 'popularity': 60}, {'duration_ms': 2.400000000001455, 'name': 'El baile y el salón', 'popularity': 60}, {'duration_ms': 10.380000000001019, 'name': 'Aprovéchate', 'popularity': 59}, {'duration_ms': 10.380000000001019, 'name': 'Aprovéchate', 'popularity': 59}, {'duration_ms': 10.380000000001019, 'name': 'Aprovéchate', 'popularity': 59}, {'duration_ms': 10.380000000001019, 'name': 'Aprovéchate', 'popularity': 59}, {'duration_ms': 10.380000000001019, 'name': 'Aprovéchate', 'popularity': 59}, {'duration_ms': 10.380000000001019, 'name': 'Aprovéchate', 'popularity': 59}, {'duration_ms': 10.380000000001019, 'name': 'Aprovéchate', 'popularity': 59}, {'duration_ms': 10.380000000001019, 'name': 'Aprovéchate', 'popularity': 59}, {'duration_ms': 10.380000000001019, 'name': 'Aprovéchate', 'popularity': 59}, {'duration_ms': 10.380000000001019, 'name': 'Aprovéchate', 'popularity': 59}, {'duration_ms': 10.380000000001019, 'name': 'Aprovéchate', 'popularity': 59}, {'duration_ms': 10.380000000001019, 'name': 'Aprovéchate', 'popularity': 59}, {'duration_ms': 10.380000000001019, 'name': 'Aprovéchate', 'popularity': 59}, {'duration_ms': 10.380000000001019, 'name': 'Aprovéchate', 'popularity': 59}, {'duration_ms': 10.380000000001019, 'name': 'Aprovéchate', 'popularity': 59}, {'duration_ms': 10.380000000001019, 'name': 'Aprovéchate', 'popularity': 59}, {'duration_ms': 10.380000000001019, 'name': 'Aprovéchate', 'popularity': 59}, {'duration_ms': 10.380000000001019, 'name': 'Aprovéchate', 'popularity': 59}, {'duration_ms': 3.960000000000946, 'name': 'Chilanga banda', 'popularity': 55}, {'duration_ms': 3.960000000000946, 'name': 'Chilanga banda', 'popularity': 55}, {'duration_ms': 3.960000000000946, 'name': 'Chilanga banda', 'popularity': 55}, {'duration_ms': 3.960000000000946, 'name': 'Chilanga banda', 'popularity': 55}, {'duration_ms': 3.960000000000946, 'name': 'Chilanga banda', 'popularity': 55}, {'duration_ms': 3.960000000000946, 'name': 'Chilanga banda', 'popularity': 55}, {'duration_ms': 3.960000000000946, 'name': 'Chilanga banda', 'popularity': 55}, {'duration_ms': 3.960000000000946, 'name': 'Chilanga banda', 'popularity': 55}, {'duration_ms': 3.960000000000946, 'name': 'Chilanga banda', 'popularity': 55}, {'duration_ms': 3.960000000000946, 'name': 'Chilanga banda', 'popularity': 55}, {'duration_ms': 3.960000000000946, 'name': 'Chilanga banda', 'popularity': 55}, {'duration_ms': 3.960000000000946, 'name': 'Chilanga banda', 'popularity': 55}, {'duration_ms': 3.960000000000946, 'name': 'Chilanga banda', 'popularity': 55}, {'duration_ms': 3.960000000000946, 'name': 'Chilanga banda', 'popularity': 55}, {'duration_ms': 3.960000000000946, 'name': 'Chilanga banda', 'popularity': 55}, {'duration_ms': 3.960000000000946, 'name': 'Chilanga banda', 'popularity': 55}, {'duration_ms': 3.960000000000946, 'name': 'Chilanga banda', 'popularity': 55}, {'duration_ms': 3.960000000000946, 'name': 'Chilanga banda', 'popularity': 55}, {'duration_ms': 22.3799999999992, 'name': 'Esa noche', 'popularity': 56}, {'duration_ms': 22.3799999999992, 'name': 'Esa noche', 'popularity': 56}, {'duration_ms': 22.3799999999992, 'name': 'Esa noche', 'popularity': 56}, {'duration_ms': 22.3799999999992, 'name': 'Esa noche', 'popularity': 56}, {'duration_ms': 22.3799999999992, 'name': 'Esa noche', 'popularity': 56}, {'duration_ms': 22.3799999999992, 'name': 'Esa noche', 'popularity': 56}, {'duration_ms': 22.3799999999992, 'name': 'Esa noche', 'popularity': 56}, {'duration_ms': 22.3799999999992, 'name': 'Esa noche', 'popularity': 56}, {'duration_ms': 22.3799999999992, 'name': 'Esa noche', 'popularity': 56}, {'duration_ms': 22.3799999999992, 'name': 'Esa noche', 'popularity': 56}, {'duration_ms': 22.3799999999992, 'name': 'Esa noche', 'popularity': 56}, {'duration_ms': 22.3799999999992, 'name': 'Esa noche', 'popularity': 56}, {'duration_ms': 22.3799999999992, 'name': 'Esa noche', 'popularity': 56}, {'duration_ms': 22.3799999999992, 'name': 'Esa noche', 'popularity': 56}, {'duration_ms': 22.3799999999992, 'name': 'Esa noche', 'popularity': 56}, {'duration_ms': 22.3799999999992, 'name': 'Esa noche', 'popularity': 56}, {'duration_ms': 22.3799999999992, 'name': 'Esa noche', 'popularity': 56}, {'duration_ms': 22.3799999999992, 'name': 'Esa noche', 'popularity': 56}, {'duration_ms': 1.5600000000013097, 'name': 'Las batallas', 'popularity': 55}, {'duration_ms': 1.5600000000013097, 'name': 'Las batallas', 'popularity': 55}, {'duration_ms': 1.5600000000013097, 'name': 'Las batallas', 'popularity': 55}, {'duration_ms': 1.5600000000013097, 'name': 'Las batallas', 'popularity': 55}, {'duration_ms': 1.5600000000013097, 'name': 'Las batallas', 'popularity': 55}, {'duration_ms': 1.5600000000013097, 'name': 'Las batallas', 'popularity': 55}, {'duration_ms': 1.5600000000013097, 'name': 'Las batallas', 'popularity': 55}, {'duration_ms': 1.5600000000013097, 'name': 'Las batallas', 'popularity': 55}, {'duration_ms': 1.5600000000013097, 'name': 'Las batallas', 'popularity': 55}, {'duration_ms': 1.5600000000013097, 'name': 'Las batallas', 'popularity': 55}, {'duration_ms': 1.5600000000013097, 'name': 'Las batallas', 'popularity': 55}, {'duration_ms': 1.5600000000013097, 'name': 'Las batallas', 'popularity': 55}, {'duration_ms': 1.5600000000013097, 'name': 'Las batallas', 'popularity': 55}, {'duration_ms': 1.5600000000013097, 'name': 'Las batallas', 'popularity': 55}, {'duration_ms': 1.5600000000013097, 'name': 'Las batallas', 'popularity': 55}, {'duration_ms': 1.5600000000013097, 'name': 'Las batallas', 'popularity': 55}, {'duration_ms': 1.5600000000013097, 'name': 'Las batallas', 'popularity': 55}, {'duration_ms': 1.5600000000013097, 'name': 'Las batallas', 'popularity': 55}]\n"
                    ]
                }
            ],
            "source": [
                "tracks2=[]\n",
                "\n",
                "for track in tracks:\n",
                "    cancion ={}\n",
                "    for k,v in track.items():\n",
                "        if k in ['name','popularity','duration_ms']:\n",
                "            if k == 'duration_ms':\n",
                "                v= (v/1000*60)%60\n",
                "            cancion[k]= v\n",
                "            print(cancion)\n",
                "        tracks2.append(cancion)\n",
                "\n",
                "print(tracks2)"
            ]
        },
        {
            "cell_type": "code",
            "execution_count": 21,
            "metadata": {},
            "outputs": [
                {
                    "data": {
                        "text/html": [
                            "<div>\n",
                            "<style scoped>\n",
                            "    .dataframe tbody tr th:only-of-type {\n",
                            "        vertical-align: middle;\n",
                            "    }\n",
                            "\n",
                            "    .dataframe tbody tr th {\n",
                            "        vertical-align: top;\n",
                            "    }\n",
                            "\n",
                            "    .dataframe thead th {\n",
                            "        text-align: right;\n",
                            "    }\n",
                            "</style>\n",
                            "<table border=\"1\" class=\"dataframe\">\n",
                            "  <thead>\n",
                            "    <tr style=\"text-align: right;\">\n",
                            "      <th></th>\n",
                            "      <th>duration_ms</th>\n",
                            "      <th>name</th>\n",
                            "      <th>popularity</th>\n",
                            "    </tr>\n",
                            "  </thead>\n",
                            "  <tbody>\n",
                            "    <tr>\n",
                            "      <th>0</th>\n",
                            "      <td>4.460000</td>\n",
                            "      <td>Eres</td>\n",
                            "      <td>74</td>\n",
                            "    </tr>\n",
                            "    <tr>\n",
                            "      <th>1</th>\n",
                            "      <td>3.581333</td>\n",
                            "      <td>Como te extraño mi amor</td>\n",
                            "      <td>67</td>\n",
                            "    </tr>\n",
                            "    <tr>\n",
                            "      <th>2</th>\n",
                            "      <td>3.533333</td>\n",
                            "      <td>La ingrata</td>\n",
                            "      <td>64</td>\n",
                            "    </tr>\n",
                            "    <tr>\n",
                            "      <th>3</th>\n",
                            "      <td>3.426217</td>\n",
                            "      <td>Quiero Ver</td>\n",
                            "      <td>63</td>\n",
                            "    </tr>\n",
                            "    <tr>\n",
                            "      <th>4</th>\n",
                            "      <td>2.252217</td>\n",
                            "      <td>Las flores</td>\n",
                            "      <td>62</td>\n",
                            "    </tr>\n",
                            "    <tr>\n",
                            "      <th>5</th>\n",
                            "      <td>5.134000</td>\n",
                            "      <td>El baile y el salón</td>\n",
                            "      <td>60</td>\n",
                            "    </tr>\n",
                            "    <tr>\n",
                            "      <th>6</th>\n",
                            "      <td>4.236217</td>\n",
                            "      <td>Aprovéchate</td>\n",
                            "      <td>59</td>\n",
                            "    </tr>\n",
                            "    <tr>\n",
                            "      <th>7</th>\n",
                            "      <td>3.534433</td>\n",
                            "      <td>Chilanga banda</td>\n",
                            "      <td>55</td>\n",
                            "    </tr>\n",
                            "    <tr>\n",
                            "      <th>8</th>\n",
                            "      <td>3.439550</td>\n",
                            "      <td>Esa noche</td>\n",
                            "      <td>56</td>\n",
                            "    </tr>\n",
                            "    <tr>\n",
                            "      <th>9</th>\n",
                            "      <td>3.417100</td>\n",
                            "      <td>Las batallas</td>\n",
                            "      <td>55</td>\n",
                            "    </tr>\n",
                            "  </tbody>\n",
                            "</table>\n",
                            "</div>"
                        ],
                        "text/plain": [
                            "   duration_ms                     name  popularity\n",
                            "0     4.460000                     Eres          74\n",
                            "1     3.581333  Como te extraño mi amor          67\n",
                            "2     3.533333               La ingrata          64\n",
                            "3     3.426217               Quiero Ver          63\n",
                            "4     2.252217               Las flores          62\n",
                            "5     5.134000      El baile y el salón          60\n",
                            "6     4.236217              Aprovéchate          59\n",
                            "7     3.534433           Chilanga banda          55\n",
                            "8     3.439550                Esa noche          56\n",
                            "9     3.417100             Las batallas          55"
                        ]
                    },
                    "execution_count": 21,
                    "metadata": {},
                    "output_type": "execute_result"
                }
            ],
            "source": [
                "tracks_df = pd.DataFrame.from_records(tracks1)\n",
                "tracks_df"
            ]
        },
        {
            "cell_type": "code",
            "execution_count": 33,
            "metadata": {},
            "outputs": [
                {
                    "data": {
                        "text/html": [
                            "<div>\n",
                            "<style scoped>\n",
                            "    .dataframe tbody tr th:only-of-type {\n",
                            "        vertical-align: middle;\n",
                            "    }\n",
                            "\n",
                            "    .dataframe tbody tr th {\n",
                            "        vertical-align: top;\n",
                            "    }\n",
                            "\n",
                            "    .dataframe thead th {\n",
                            "        text-align: right;\n",
                            "    }\n",
                            "</style>\n",
                            "<table border=\"1\" class=\"dataframe\">\n",
                            "  <thead>\n",
                            "    <tr style=\"text-align: right;\">\n",
                            "      <th></th>\n",
                            "      <th>duration_ms</th>\n",
                            "      <th>name</th>\n",
                            "      <th>popularity</th>\n",
                            "    </tr>\n",
                            "  </thead>\n",
                            "  <tbody>\n",
                            "    <tr>\n",
                            "      <th>0</th>\n",
                            "      <td>4.460000</td>\n",
                            "      <td>Eres</td>\n",
                            "      <td>74</td>\n",
                            "    </tr>\n",
                            "    <tr>\n",
                            "      <th>1</th>\n",
                            "      <td>3.581333</td>\n",
                            "      <td>Como te extraño mi amor</td>\n",
                            "      <td>67</td>\n",
                            "    </tr>\n",
                            "    <tr>\n",
                            "      <th>2</th>\n",
                            "      <td>3.533333</td>\n",
                            "      <td>La ingrata</td>\n",
                            "      <td>64</td>\n",
                            "    </tr>\n",
                            "    <tr>\n",
                            "      <th>3</th>\n",
                            "      <td>3.426217</td>\n",
                            "      <td>Quiero Ver</td>\n",
                            "      <td>63</td>\n",
                            "    </tr>\n",
                            "    <tr>\n",
                            "      <th>4</th>\n",
                            "      <td>2.252217</td>\n",
                            "      <td>Las flores</td>\n",
                            "      <td>62</td>\n",
                            "    </tr>\n",
                            "    <tr>\n",
                            "      <th>5</th>\n",
                            "      <td>5.134000</td>\n",
                            "      <td>El baile y el salón</td>\n",
                            "      <td>60</td>\n",
                            "    </tr>\n",
                            "    <tr>\n",
                            "      <th>6</th>\n",
                            "      <td>4.236217</td>\n",
                            "      <td>Aprovéchate</td>\n",
                            "      <td>59</td>\n",
                            "    </tr>\n",
                            "    <tr>\n",
                            "      <th>8</th>\n",
                            "      <td>3.439550</td>\n",
                            "      <td>Esa noche</td>\n",
                            "      <td>56</td>\n",
                            "    </tr>\n",
                            "    <tr>\n",
                            "      <th>9</th>\n",
                            "      <td>3.417100</td>\n",
                            "      <td>Las batallas</td>\n",
                            "      <td>55</td>\n",
                            "    </tr>\n",
                            "    <tr>\n",
                            "      <th>7</th>\n",
                            "      <td>3.534433</td>\n",
                            "      <td>Chilanga banda</td>\n",
                            "      <td>55</td>\n",
                            "    </tr>\n",
                            "  </tbody>\n",
                            "</table>\n",
                            "</div>"
                        ],
                        "text/plain": [
                            "   duration_ms                     name  popularity\n",
                            "0     4.460000                     Eres          74\n",
                            "1     3.581333  Como te extraño mi amor          67\n",
                            "2     3.533333               La ingrata          64\n",
                            "3     3.426217               Quiero Ver          63\n",
                            "4     2.252217               Las flores          62\n",
                            "5     5.134000      El baile y el salón          60\n",
                            "6     4.236217              Aprovéchate          59\n",
                            "8     3.439550                Esa noche          56\n",
                            "9     3.417100             Las batallas          55\n",
                            "7     3.534433           Chilanga banda          55"
                        ]
                    },
                    "execution_count": 33,
                    "metadata": {},
                    "output_type": "execute_result"
                }
            ],
            "source": [
                "tracks_df.sort_values(['popularity'],inplace=True,ascending=False)\n",
                "tracks_df"
            ]
        },
        {
            "cell_type": "code",
            "execution_count": 26,
            "metadata": {},
            "outputs": [
                {
                    "data": {
                        "text/html": [
                            "<div>\n",
                            "<style scoped>\n",
                            "    .dataframe tbody tr th:only-of-type {\n",
                            "        vertical-align: middle;\n",
                            "    }\n",
                            "\n",
                            "    .dataframe tbody tr th {\n",
                            "        vertical-align: top;\n",
                            "    }\n",
                            "\n",
                            "    .dataframe thead th {\n",
                            "        text-align: right;\n",
                            "    }\n",
                            "</style>\n",
                            "<table border=\"1\" class=\"dataframe\">\n",
                            "  <thead>\n",
                            "    <tr style=\"text-align: right;\">\n",
                            "      <th></th>\n",
                            "      <th>duration_ms</th>\n",
                            "      <th>name</th>\n",
                            "      <th>popularity</th>\n",
                            "    </tr>\n",
                            "  </thead>\n",
                            "  <tbody>\n",
                            "    <tr>\n",
                            "      <th>7</th>\n",
                            "      <td>3.534433</td>\n",
                            "      <td>Chilanga banda</td>\n",
                            "      <td>55</td>\n",
                            "    </tr>\n",
                            "    <tr>\n",
                            "      <th>9</th>\n",
                            "      <td>3.417100</td>\n",
                            "      <td>Las batallas</td>\n",
                            "      <td>55</td>\n",
                            "    </tr>\n",
                            "    <tr>\n",
                            "      <th>8</th>\n",
                            "      <td>3.439550</td>\n",
                            "      <td>Esa noche</td>\n",
                            "      <td>56</td>\n",
                            "    </tr>\n",
                            "  </tbody>\n",
                            "</table>\n",
                            "</div>"
                        ],
                        "text/plain": [
                            "   duration_ms            name  popularity\n",
                            "7     3.534433  Chilanga banda          55\n",
                            "9     3.417100    Las batallas          55\n",
                            "8     3.439550       Esa noche          56"
                        ]
                    },
                    "execution_count": 26,
                    "metadata": {},
                    "output_type": "execute_result"
                }
            ],
            "source": [
                "tracks_df.head(3)"
            ]
        },
        {
            "cell_type": "code",
            "execution_count": 35,
            "metadata": {},
            "outputs": [
                {
                    "data": {
                        "image/png": "[encoded data removed]",
                        "text/plain": [
                            "<Figure size 640x480 with 1 Axes>"
                        ]
                    },
                    "metadata": {},
                    "output_type": "display_data"
                }
            ],
            "source": [
                "import seaborn as sns\n",
                "\n",
                "scatter_plot = sns.scatterplot(data = tracks_df, x='popularity',y='duration_ms')\n",
                "fig = scatter_plot.get_figure()\n",
                "fig.savefig('scatter_plot.png')"
            ]
        }
    ],
    "metadata": {
        "kernelspec": {
            "display_name": "Python 3",
            "language": "python",
            "name": "python3"
        },
        "language_info": {
            "codemirror_mode": {
                "name": "ipython",
                "version": 3
            },
            "file_extension": ".py",
            "mimetype": "text/x-python",
            "name": "python",
            "nbconvert_exporter": "python",
            "pygments_lexer": "ipython3",
            "version": "3.11.4"
        },
        "orig_nbformat": 4
    },
    "nbformat": 4,
    "nbformat_minor": 2
}
